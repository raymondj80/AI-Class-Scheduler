{
 "cells": [
  {
   "cell_type": "markdown",
   "metadata": {
    "id": "bUz_N6a-2qbT"
   },
   "source": [
    "# Clone Github Repository\n"
   ]
  },
  {
   "cell_type": "code",
   "execution_count": 6,
   "metadata": {
    "colab": {
     "base_uri": "https://localhost:8080/"
    },
    "id": "x49q3yc12m4Z",
    "outputId": "64148439-ff36-4e3f-a120-b534adc8144d"
   },
   "outputs": [
    {
     "name": "stdout",
     "output_type": "stream",
     "text": [
      "Requirement already satisfied: numpy in /Library/Frameworks/Python.framework/Versions/3.8/lib/python3.8/site-packages (1.19.4)\n",
      "\u001b[33mWARNING: You are using pip version 20.2.2; however, version 20.3.1 is available.\n",
      "You should consider upgrading via the '/Library/Frameworks/Python.framework/Versions/3.8/bin/python3 -m pip install --upgrade pip' command.\u001b[0m\n",
      "Cloning into 'AI-Class-Scheduler'...\n",
      "remote: Enumerating objects: 82, done.\u001b[K\n",
      "remote: Counting objects: 100% (82/82), done.\u001b[K\n",
      "remote: Compressing objects: 100% (67/67), done.\u001b[K\n",
      "remote: Total 82 (delta 38), reused 44 (delta 14), pack-reused 0\u001b[K\n",
      "Unpacking objects: 100% (82/82), done.\n",
      "/Users/jarvis/.Trash/AI-Class-Scheduler/AI-Class-Scheduler/AI-Class-Scheduler\n"
     ]
    }
   ],
   "source": [
    "!pip install numpy\n",
    "!git clone https://github.com/raymondj80/AI-Class-Scheduler.git\n",
    "%cd AI-Class-Scheduler/"
   ]
  },
  {
   "cell_type": "markdown",
   "metadata": {
    "id": "_wo704w73IYp"
   },
   "source": [
    "# Input Classes and Work Schedule\n"
   ]
  },
  {
   "cell_type": "code",
   "execution_count": 7,
   "metadata": {
    "id": "5SvEXSrO3QNG"
   },
   "outputs": [],
   "source": [
    "class1 = ['PHYS16','MWF:12-13','TuWTh:15-18',6,'F:18',0.30]\n",
    "class2 = ['CS182','MWF:14-15','MW:15-19',8,'Th:18',0.15]\n",
    "class3 = ['GENED1023','TuTh:12-14','MW:12-13',2,'W:18',0.15]\n",
    "work_ = 'MTuWThFSatSun:12-20'"
   ]
  },
  {
   "cell_type": "markdown",
   "metadata": {
    "id": "deYnQBBM3T22"
   },
   "source": [
    "# Running CSP Scheduler\n"
   ]
  },
  {
   "cell_type": "code",
   "execution_count": 10,
   "metadata": {
    "colab": {
     "base_uri": "https://localhost:8080/"
    },
    "id": "Ls2gCCC73Yvp",
    "outputId": "4381bad8-899e-462a-cade-82244f58da42"
   },
   "outputs": [
    {
     "name": "stdout",
     "output_type": "stream",
     "text": [
      "Time: Sun:13    Class: PHYS16        Action: work       Utility: 0.143      Work Done: False\n",
      "Time: Sun:15    Class: PHYS16        Action: work       Utility: 0.144      Work Done: False\n",
      "Time: Sun:17    Class: PHYS16        Action: work       Utility: 0.146      Work Done: False\n",
      "Time: Sun:19    Class: PHYS16        Action: work       Utility: 0.148      Work Done: False\n",
      "Time: M:12      Class: PHYS16        Action: class      Utility: 0.314      Work Done: False\n",
      "Time: M:14      Class: CS182         Action: class      Utility: 0.212      Work Done: False\n",
      "Time: M:17      Class: PHYS16        Action: work       Utility: 0.179      Work Done: False\n",
      "Time: M:19      Class: PHYS16        Action: work       Utility: 0.181      Work Done: False\n",
      "Time: Tu:13     Class: GENED1023     Action: work       Utility: 0.126      Work Done: False\n",
      "Time: Tu:15     Class: GENED1023     Action: work       Utility: 0.128      Work Done: False\n",
      "Time: Tu:17     Class: PHYS16        Action: OH         Utility: 0.430      Work Done: False\n",
      "Time: Tu:19     Class: PHYS16        Action: work       Utility: 0.253      Work Done: False\n",
      "Time: W:12      Class: CS182         Action: work       Utility: 0.133      Work Done: False\n",
      "Time: W:14      Class: CS182         Action: class      Utility: 0.207      Work Done: False\n",
      "Time: W:16      Class: GENED1023     Action: work       Utility: 0.148      Work Done: False\n",
      "Time: W:18      Class: GENED1023     Action: work       Utility: 0.150      Work Done: True\n",
      "Time: Th:12     Class: CS182         Action: work       Utility: 0.158      Work Done: False\n",
      "Time: Th:14     Class: CS182         Action: work       Utility: 0.160      Work Done: False\n",
      "Time: Th:16     Class: CS182         Action: work       Utility: 0.161      Work Done: False\n",
      "Time: Th:18     Class: CS182         Action: work       Utility: 0.163      Work Done: False\n",
      "Time: F:12      Class: CS182         Action: work       Utility: 0.147      Work Done: False\n",
      "Time: F:14      Class: CS182         Action: class      Utility: 0.170      Work Done: False\n",
      "Time: F:16      Class: CS182         Action: work       Utility: 0.146      Work Done: False\n",
      "Time: F:18      Class: CS182         Action: work       Utility: 0.144      Work Done: False\n",
      "Time: Sat:12    Class: CS182         Action: work       Utility: 0.130      Work Done: False\n",
      "Time: Sat:14    Class: PHYS16        Action: work       Utility: 0.121      Work Done: True\n",
      "Time: Sat:16    Class: CS182         Action: work       Utility: 0.118      Work Done: True\n",
      "Time: Sat:18    Class: GENED1023     Action: work       Utility: 0.000      Work Done: True\n"
     ]
    }
   ],
   "source": [
    "from Scheduler import Scheduler\n",
    "S = Scheduler()\n",
    "S.add_class(class1)\n",
    "S.add_class(class2)\n",
    "S.add_class(class3)\n",
    "S.add_work_schedule(work_)\n",
    "S.add_constraints(1,5)\n",
    "F = S.back_tracking_search()\n",
    "S.print_final_schedule(F)"
   ]
  },
  {
   "cell_type": "markdown",
   "metadata": {
    "id": "OkS2de4L3jVt"
   },
   "source": [
    "# Running MDP Scheduler\n"
   ]
  },
  {
   "cell_type": "code",
   "execution_count": 11,
   "metadata": {
    "colab": {
     "base_uri": "https://localhost:8080/",
     "height": 368
    },
    "id": "ips4XoSp3nFs",
    "outputId": "c80e562d-dff1-45d2-d774-e4c94fd8f82a"
   },
   "outputs": [
    {
     "name": "stdout",
     "output_type": "stream",
     "text": [
      "Time: Sun:12    Class: PHYS16        Action: rest       Utility: 14.50      Work Done: 0%         Fatigue: 0         Proficiency: 0%        \n",
      "Time: Sun:13    Class: PHYS16        Action: rest       Utility: 14.39      Work Done: 0%         Fatigue: 0         Proficiency: 0%        \n",
      "Time: Sun:14    Class: PHYS16        Action: rest       Utility: 14.27      Work Done: 0%         Fatigue: 0         Proficiency: 0%        \n",
      "Time: Sun:15    Class: PHYS16        Action: rest       Utility: 14.15      Work Done: 0%         Fatigue: 0         Proficiency: 0%        \n",
      "Time: Sun:16    Class: PHYS16        Action: rest       Utility: 14.04      Work Done: 0%         Fatigue: 0         Proficiency: 0%        \n",
      "Time: Sun:17    Class: PHYS16        Action: rest       Utility: 13.92      Work Done: 0%         Fatigue: 0         Proficiency: 0%        \n",
      "Time: Sun:18    Class: PHYS16        Action: rest       Utility: 13.81      Work Done: 0%         Fatigue: 0         Proficiency: 0%        \n",
      "Time: Sun:19    Class: PHYS16        Action: rest       Utility: 13.69      Work Done: 0%         Fatigue: 0         Proficiency: 0%        \n",
      "Time: M:12      Class: PHYS16        Action: class      Utility: 13.04      Work Done: 0%         Fatigue: 1         Proficiency: 13%       \n",
      "Time: M:13      Class: PHYS16        Action: work       Utility: 15.72      Work Done: 16%        Fatigue: 4         Proficiency: 22%       \n",
      "Time: M:14      Class: PHYS16        Action: work       Utility: 13.41      Work Done: 32%        Fatigue: 7         Proficiency: 30%       \n",
      "Time: M:15      Class: PHYS16        Action: work       Utility: 9.52       Work Done: 41%        Fatigue: 10        Proficiency: 38%       \n",
      "Time: M:16      Class: PHYS16        Action: rest       Utility: 7.50       Work Done: 41%        Fatigue: 8         Proficiency: 38%       \n",
      "Time: M:17      Class: PHYS16        Action: rest       Utility: 8.24       Work Done: 41%        Fatigue: 6         Proficiency: 38%       \n",
      "Time: M:18      Class: PHYS16        Action: work       Utility: 10.70      Work Done: 58%        Fatigue: 9         Proficiency: 47%       \n",
      "Time: M:19      Class: PHYS16        Action: rest       Utility: 6.08       Work Done: 58%        Fatigue: 7         Proficiency: 47%       \n",
      "Time: Tu:12     Class: PHYS16        Action: work       Utility: 7.27       Work Done: 72%        Fatigue: 10        Proficiency: 55%       \n",
      "Time: Tu:13     Class: PHYS16        Action: rest       Utility: 3.36       Work Done: 72%        Fatigue: 8         Proficiency: 55%       \n",
      "Time: Tu:14     Class: PHYS16        Action: work       Utility: 4.67       Work Done: 80%        Fatigue: 10        Proficiency: 63%       \n",
      "Time: Tu:15     Class: PHYS16        Action: rest       Utility: 2.41       Work Done: 80%        Fatigue: 8         Proficiency: 63%       \n",
      "Time: Tu:16     Class: PHYS16        Action: work       Utility: 4.04       Work Done: 90%        Fatigue: 10        Proficiency: 72%       \n",
      "Time: Tu:17     Class: CS182         Action: work       Utility: 1.91       Work Done: 0%         Fatigue: 10        Proficiency: 6%        \n",
      "Time: Tu:18     Class: CS182         Action: rest       Utility: 1.87       Work Done: 0%         Fatigue: 8         Proficiency: 6%        \n",
      "Time: Tu:19     Class: PHYS16        Action: work       Utility: 3.00       Work Done: 100%       Fatigue: 10        Proficiency: 80%       \n",
      "Time: W:12      Class: CS182         Action: rest       Utility: 1.17       Work Done: 0%         Fatigue: 8         Proficiency: 6%        \n",
      "Time: W:13      Class: CS182         Action: work       Utility: 1.33       Work Done: 1%         Fatigue: 10        Proficiency: 12%       \n",
      "Time: W:14      Class: CS182         Action: class      Utility: 1.25       Work Done: 1%         Fatigue: 10        Proficiency: 22%       \n",
      "Time: W:15      Class: CS182         Action: oh         Utility: 1.34       Work Done: 1%         Fatigue: 10        Proficiency: 35%       \n",
      "Time: W:16      Class: CS182         Action: rest       Utility: 1.43       Work Done: 1%         Fatigue: 8         Proficiency: 35%       \n",
      "Time: W:17      Class: CS182         Action: work       Utility: 2.04       Work Done: 6%         Fatigue: 10        Proficiency: 41%       \n",
      "Time: W:18      Class: CS182         Action: rest       Utility: 1.34       Work Done: 6%         Fatigue: 8         Proficiency: 41%       \n",
      "Time: W:19      Class: CS182         Action: work       Utility: 2.06       Work Done: 12%        Fatigue: 10        Proficiency: 48%       \n",
      "Time: Th:12     Class: GENED1023     Action: class      Utility: 1.01       Work Done: 0%         Fatigue: 10        Proficiency: 40%       \n",
      "Time: Th:13     Class: GENED1023     Action: class      Utility: 1.17       Work Done: 0%         Fatigue: 10        Proficiency: 80%       \n",
      "Time: Th:14     Class: GENED1023     Action: rest       Utility: 1.36       Work Done: 0%         Fatigue: 8         Proficiency: 80%       \n",
      "Time: Th:15     Class: GENED1023     Action: work       Utility: 2.99       Work Done: 12%        Fatigue: 10        Proficiency: 100%      \n",
      "Time: Th:16     Class: GENED1023     Action: rest       Utility: 1.38       Work Done: 12%        Fatigue: 8         Proficiency: 100%      \n",
      "Time: Th:17     Class: GENED1023     Action: work       Utility: 3.38       Work Done: 27%        Fatigue: 10        Proficiency: 100%      \n",
      "Time: Th:18     Class: GENED1023     Action: rest       Utility: 1.31       Work Done: 27%        Fatigue: 8         Proficiency: 100%      \n",
      "Time: Th:19     Class: GENED1023     Action: work       Utility: 3.25       Work Done: 42%        Fatigue: 10        Proficiency: 100%      \n",
      "Time: F:12      Class: GENED1023     Action: rest       Utility: 1.87       Work Done: 42%        Fatigue: 8         Proficiency: 100%      \n",
      "Time: F:13      Class: GENED1023     Action: work       Utility: 3.59       Work Done: 57%        Fatigue: 10        Proficiency: 100%      \n",
      "Time: F:14      Class: GENED1023     Action: rest       Utility: 1.52       Work Done: 57%        Fatigue: 8         Proficiency: 100%      \n",
      "Time: F:15      Class: GENED1023     Action: work       Utility: 3.17       Work Done: 72%        Fatigue: 10        Proficiency: 100%      \n",
      "Time: F:16      Class: CS182         Action: rest       Utility: 1.20       Work Done: 12%        Fatigue: 8         Proficiency: 48%       \n",
      "Time: F:17      Class: GENED1023     Action: work       Utility: 2.74       Work Done: 87%        Fatigue: 10        Proficiency: 100%      \n",
      "Time: F:18      Class: CS182         Action: rest       Utility: 1.31       Work Done: 12%        Fatigue: 8         Proficiency: 48%       \n",
      "Time: F:19      Class: CS182         Action: work       Utility: 2.26       Work Done: 19%        Fatigue: 10        Proficiency: 54%       \n",
      "Time: Sat:12    Class: CS182         Action: rest       Utility: 2.22       Work Done: 19%        Fatigue: 8         Proficiency: 54%       \n",
      "Time: Sat:13    Class: CS182         Action: work       Utility: 3.13       Work Done: 27%        Fatigue: 10        Proficiency: 60%       \n",
      "Time: Sat:14    Class: CS182         Action: rest       Utility: 2.19       Work Done: 27%        Fatigue: 8         Proficiency: 60%       \n",
      "Time: Sat:15    Class: CS182         Action: work       Utility: 3.17       Work Done: 36%        Fatigue: 10        Proficiency: 66%       \n",
      "Time: Sat:16    Class: CS182         Action: rest       Utility: 2.07       Work Done: 36%        Fatigue: 8         Proficiency: 66%       \n",
      "Time: Sat:17    Class: CS182         Action: work       Utility: 3.18       Work Done: 46%        Fatigue: 10        Proficiency: 72%       \n",
      "Time: Sat:18    Class: CS182         Action: rest       Utility: 1.91       Work Done: 46%        Fatigue: 8         Proficiency: 72%       \n",
      "Time: Sat:19    Class: CS182         Action: work       Utility: 3.12       Work Done: 57%        Fatigue: 10        Proficiency: 79%       \n"
     ]
    }
   ],
   "source": [
    "from MScheduler import MScheduler\n",
    "MS = MScheduler()\n",
    "MS.add_class(class1)\n",
    "MS.add_class(class2)\n",
    "MS.add_class(class3)\n",
    "MS.add_work_schedule(work_)\n",
    "MS.maximize_utility()\n",
    "MS.print_final_schedule()"
   ]
  },
  {
   "cell_type": "code",
   "execution_count": null,
   "metadata": {},
   "outputs": [],
   "source": []
  }
 ],
 "metadata": {
  "colab": {
   "collapsed_sections": [],
   "name": "Scheduler.ipynb",
   "provenance": []
  },
  "kernelspec": {
   "display_name": "Python 3",
   "language": "python",
   "name": "python3"
  },
  "language_info": {
   "codemirror_mode": {
    "name": "ipython",
    "version": 3
   },
   "file_extension": ".py",
   "mimetype": "text/x-python",
   "name": "python",
   "nbconvert_exporter": "python",
   "pygments_lexer": "ipython3",
   "version": "3.8.5"
  }
 },
 "nbformat": 4,
 "nbformat_minor": 1
}
